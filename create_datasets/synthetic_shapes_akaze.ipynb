{
 "cells": [
  {
   "cell_type": "markdown",
   "metadata": {},
   "source": [
    "Synthetic Shapes akazeデータセットの作成方法\n",
    "特徴点検出手法akazeを使用して、Symthetic Shapesデータセットの画像から特徴点を検出"
   ]
  },
  {
   "cell_type": "code",
   "execution_count": 1,
   "metadata": {},
   "outputs": [],
   "source": [
    "import numpy as np\n",
    "import glob\n",
    "import cv2 as cv\n",
    "import matplotlib.pyplot as plt\n",
    "import os\n",
    "from os.path import join\n",
    "from natsort import natsorted\n",
    "import shutil\n",
    "\n",
    "DATA_PATH = '../datasets'  # 環境に合わせて変更する"
   ]
  },
  {
   "cell_type": "code",
   "execution_count": 2,
   "metadata": {},
   "outputs": [],
   "source": [
    "def keypoint_coordinate_list(kp, a):\n",
    "    kp_list = []\n",
    "    for k in kp:\n",
    "        # kp_list.append([k.pt[0], k.pt[1]]) # (w,h)\n",
    "        kp_list.append([k.pt[1]/a, k.pt[0]/a]) # (h,w)\n",
    "    return np.round(np.array(kp_list), decimals=3)\n",
    "\n",
    "def detect_feature_points_with_resize(img, a):\n",
    "    width = img.shape[1]\n",
    "    height = img.shape[0]\n",
    "    img = cv.resize(img, (width*a, height*a))\n",
    "    # AKAZE検出器を読み込む\n",
    "    akaze = cv.AKAZE_create()\n",
    "    # 特徴点の検出\n",
    "    kp = akaze.detect(img)\n",
    "    kp_list = keypoint_coordinate_list(kp, a)\n",
    "    return kp_list"
   ]
  },
  {
   "cell_type": "code",
   "execution_count": 7,
   "metadata": {},
   "outputs": [],
   "source": [
    "# gaussian noiseは特徴点は出ないためここでは除く\n",
    "draws = [\n",
    "    \"draw_checkerboard\",\n",
    "    \"draw_cube\",\n",
    "    \"draw_ellipses\",\n",
    "    \"draw_lines\",\n",
    "    \"draw_multiple_polygons\",\n",
    "    \"draw_polygon\",\n",
    "    \"draw_star\",\n",
    "    \"draw_stripes\",\n",
    "    ]\n",
    "datasets = [\"training\", \"validation\", \"test\"]\n",
    "original_dataset = f'{DATA_PATH}/synthetic_shapes_v6'\n",
    "new_dataset = f'{DATA_PATH}/synthetic_shapes_akaze'\n",
    "\n",
    "######データセット構造の作成######\n",
    "for d in draws:\n",
    "    shutil.copytree(\n",
    "        f'{original_dataset}/{d}/images',\n",
    "        f'{new_dataset}/{d}/images')\n",
    "    os.makedirs(f'{new_dataset}/{d}/points', exist_ok=True)\n",
    "    for data in datasets:\n",
    "        os.makedirs(f'{new_dataset}/{d}/points/{data}', exist_ok=True)"
   ]
  },
  {
   "cell_type": "code",
   "execution_count": 11,
   "metadata": {},
   "outputs": [],
   "source": [
    "for d in draws:\n",
    "    draw_path = join(new_dataset, d)\n",
    "    for data in datasets:\n",
    "        # 画像ファイルのパス\n",
    "        img_paths = join(draw_path, \"images\", data, \"*\")\n",
    "        # natsorted : ファイルを順番に並べる(0,1,2,...)\n",
    "        img_paths = natsorted(glob.glob(img_paths))\n",
    "        npy_paths = [i.replace(\"images\", \"points\").replace(\"png\", \"npy\") for i in img_paths]\n",
    "        for img_path, npy_path in zip(img_paths, npy_paths):\n",
    "            img = cv.imread(img_path)\n",
    "            # akaze特徴点検出、出力は特徴点の座標リスト\n",
    "            kp_list = detect_feature_points_with_resize(img, 2)\n",
    "            if kp_list.size != 0: # 特徴点が検出されたかされなかったか\n",
    "                # npyファイルに座標リストを保存\n",
    "                np.save(npy_path, kp_list)\n",
    "            else:\n",
    "                # 特徴点がない場合は画像を消す\n",
    "                os.remove(img_path)"
   ]
  },
  {
   "cell_type": "code",
   "execution_count": 14,
   "metadata": {},
   "outputs": [
    {
     "name": "stdout",
     "output_type": "stream",
     "text": [
      "総データ数：78493\n"
     ]
    }
   ],
   "source": [
    "all = 0\n",
    "for d in draws:\n",
    "    draw_path = join(new_dataset, d)\n",
    "    for data in datasets:\n",
    "        img_paths = join(draw_path, \"images\", data, \"*\")\n",
    "        img_paths = natsorted(glob.glob(img_paths))\n",
    "        all += len(img_paths)\n",
    "\n",
    "print(f'総データ数：{all}')\n"
   ]
  }
 ],
 "metadata": {
  "interpreter": {
   "hash": "1eab1fb50233434cb920beccfc8e225668610eebb5ded8972d1d0b4361050095"
  },
  "kernelspec": {
   "display_name": "Python 3.8.9 ('base-python')",
   "language": "python",
   "name": "python3"
  },
  "language_info": {
   "codemirror_mode": {
    "name": "ipython",
    "version": 3
   },
   "file_extension": ".py",
   "mimetype": "text/x-python",
   "name": "python",
   "nbconvert_exporter": "python",
   "pygments_lexer": "ipython3",
   "version": "3.9.12"
  },
  "orig_nbformat": 4
 },
 "nbformat": 4,
 "nbformat_minor": 2
}
