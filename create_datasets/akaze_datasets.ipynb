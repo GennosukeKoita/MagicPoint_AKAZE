{
 "cells": [
  {
   "cell_type": "markdown",
   "metadata": {},
   "source": [
    "MS COCO akazeデータセットの作成方法\n",
    "akazeを使ってms-cocoデータセットの画像から特徴点検出を行う"
   ]
  },
  {
   "cell_type": "code",
   "execution_count": 1,
   "metadata": {},
   "outputs": [],
   "source": [
    "import numpy as np\n",
    "import cv2 as cv\n",
    "import os\n",
    "from os.path import splitext, basename, join\n",
    "import glob\n",
    "import natsort\n",
    "import matplotlib.pyplot as plt\n",
    "\n",
    "DATA_PATH = '/Users/gennosuke/Downloads/datasets'  # 環境に合わせて変更する"
   ]
  },
  {
   "cell_type": "code",
   "execution_count": 4,
   "metadata": {},
   "outputs": [],
   "source": [
    "def resize_img_and_kp(img, kp, a):\n",
    "    height, width, _ = img.shape\n",
    "    kp_list = []\n",
    "    for k in kp:\n",
    "        kp_list.append([k.pt[1]/a, k.pt[0]/a, k.response]) # [y,x,response]responseは特徴点の強度\n",
    "    kp_list = np.array(kp_list)\n",
    "    kp_list = kp_list[np.argsort(kp_list[:, 2])[::-1]]\n",
    "    kp_list[:,0] = kp_list[:,0] * 120 / height\n",
    "    kp_list[:,1] = kp_list[:,1] * 160 / width\n",
    "    kp_list = np.round(kp_list, decimals=3)\n",
    "    resize_img = cv.resize(img, (160, 120))\n",
    "    return resize_img, kp_list[:,:2]\n",
    "\n",
    "def detect_feature_points_with_resize(img, a, top_k=0):\n",
    "    width = img.shape[1]\n",
    "    height = img.shape[0]\n",
    "    img = cv.resize(img, (width*a, height*a))\n",
    "    # AKAZE検出器を読み込む\n",
    "    akaze = cv.AKAZE_create()\n",
    "    # 特徴点の検出\n",
    "    kp = akaze.detect(img)\n",
    "    if len(kp) > 0:\n",
    "        resize_img, kp_list = resize_img_and_kp(img, kp, a)\n",
    "        if top_k > 0 and len(kp_list) >= top_k:\n",
    "            kp_list = kp_list[:top_k]\n",
    "        return True, resize_img, kp_list\n",
    "    else:\n",
    "        return False, None, None\n"
   ]
  },
  {
   "cell_type": "code",
   "execution_count": 2,
   "metadata": {},
   "outputs": [],
   "source": [
    "# 画像サイズは全て同じにする\n",
    "# グレー画像を適応する\n",
    "# 特徴点が検出されない場合はデータセットには含めない\n",
    "# この３つは絶対に守れ！！！！！！！！！\n",
    "\n",
    "def resize_img_and_kp(kp):\n",
    "    kp_list = []\n",
    "    for k in kp:\n",
    "        kp_list.append([k.pt[1], k.pt[0], k.response]) # [y,x,response]responseは特徴点の強度\n",
    "    kp_list = np.array(kp_list)\n",
    "    kp_list = kp_list[np.argsort(kp_list[:, 2])[::-1]]\n",
    "    kp_list = np.round(kp_list, decimals=3)\n",
    "    return kp_list[:,:2]\n",
    "\n",
    "def detect_feature_points_with_resize(img, top_k=0):\n",
    "    img = cv.resize(img, (640, 480))\n",
    "    img = cv.cvtColor(img, cv.COLOR_BGR2GRAY)\n",
    "    akaze = cv.AKAZE_create()\n",
    "    kp = akaze.detect(img)\n",
    "    if len(kp) > 0:\n",
    "        kp_list = resize_img_and_kp(kp)\n",
    "        if top_k > 0 and len(kp_list) >= top_k:\n",
    "            kp_list = kp_list[:top_k]\n",
    "        return True, img, kp_list\n",
    "    else:\n",
    "        return False, None, None"
   ]
  },
  {
   "cell_type": "code",
   "execution_count": 10,
   "metadata": {},
   "outputs": [],
   "source": [
    "create_dataset_path = f'{DATA_PATH}/akaze_coco'\n",
    "os.makedirs(create_dataset_path, exist_ok=True)\n",
    "base_path = join(create_dataset_path, 'ms-coco')\n",
    "os.makedirs(base_path, exist_ok=True)\n",
    "for ip in [\"images\", \"points\"]:\n",
    "    ip_path = join(base_path, ip)\n",
    "    os.makedirs(ip_path, exist_ok=True)\n",
    "    for data in [\"training\", \"validation\"]:\n",
    "        data_path = join(ip_path, data)\n",
    "        os.makedirs(data_path, exist_ok=True)"
   ]
  },
  {
   "cell_type": "code",
   "execution_count": 11,
   "metadata": {},
   "outputs": [],
   "source": [
    "tasks = {'training':\"train2014\", 'validation':\"val2014\"}\n",
    "for key, value in tasks.items():\n",
    "    coco_path = join(DATA_PATH, 'COCO', value, '*')\n",
    "    save_img_path = join(base_path, 'images', key)\n",
    "    save_pnt_path = join(base_path, 'points', key)\n",
    "    coco_img_paths = natsort.natsorted(glob.glob(coco_path))\n",
    "    for path in coco_img_paths:\n",
    "        basename_without_ext = splitext(basename(path))[0]\n",
    "        img = cv.imread(path)\n",
    "        judge, resize_img, kp_list = detect_feature_points_with_resize(img, 0) # [y,x,stregth]\n",
    "        if judge:\n",
    "            cv.imwrite(f'{save_img_path}/{basename_without_ext}.png', resize_img)\n",
    "            np.save(f'{save_pnt_path}/{basename_without_ext}.npy', kp_list)"
   ]
  }
 ],
 "metadata": {
  "interpreter": {
   "hash": "1eab1fb50233434cb920beccfc8e225668610eebb5ded8972d1d0b4361050095"
  },
  "kernelspec": {
   "display_name": "Python 3.8.9 ('base-python')",
   "language": "python",
   "name": "python3"
  },
  "language_info": {
   "codemirror_mode": {
    "name": "ipython",
    "version": 3
   },
   "file_extension": ".py",
   "mimetype": "text/x-python",
   "name": "python",
   "nbconvert_exporter": "python",
   "pygments_lexer": "ipython3",
   "version": "3.8.9"
  },
  "orig_nbformat": 4
 },
 "nbformat": 4,
 "nbformat_minor": 2
}
