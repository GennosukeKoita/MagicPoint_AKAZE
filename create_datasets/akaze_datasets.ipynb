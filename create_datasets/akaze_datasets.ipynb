{
 "cells": [
  {
   "cell_type": "markdown",
   "metadata": {},
   "source": [
    "MS COCO akazeデータセットの作成方法\n",
    "akazeを使ってms-cocoデータセットの画像から特徴点検出を行う"
   ]
  },
  {
   "cell_type": "code",
   "execution_count": 5,
   "metadata": {},
   "outputs": [],
   "source": [
    "import numpy as np\n",
    "import cv2 as cv\n",
    "import os\n",
    "import glob\n",
    "import natsort\n",
    "import matplotlib.pyplot as plt\n",
    "\n",
    "DATA_PATH = '/Users/gennosuke/Downloads/datasets'  # 環境に合わせて変更する"
   ]
  },
  {
   "cell_type": "code",
   "execution_count": 47,
   "metadata": {},
   "outputs": [],
   "source": [
    "def resize_img_and_kp(img, kp, a):\n",
    "    height, width, _ = img.shape\n",
    "    kp_list = []\n",
    "    for k in kp:\n",
    "        kp_list.append([k.pt[1]/a, k.pt[0]/a, k.response]) # [y,x,response]responseは特徴点の強度\n",
    "    kp_list = np.array(kp_list)\n",
    "    kp_list = kp_list[np.argsort(kp_list[:, 2])[::-1]]\n",
    "    kp_list[:,0] = kp_list[:,0] * 120 / height\n",
    "    kp_list[:,1] = kp_list[:,1] * 160 / width\n",
    "    kp_list = np.round(kp_list, decimals=3)\n",
    "    resize_img = cv.resize(img, (160, 120))\n",
    "    return resize_img, kp_list[:,:2]\n",
    "\n",
    "def detect_feature_points_with_resize(img, a, top_k=0):\n",
    "    width = img.shape[1]\n",
    "    height = img.shape[0]\n",
    "    img = cv.resize(img, (width*a, height*a))\n",
    "    # AKAZE検出器を読み込む\n",
    "    akaze = cv.AKAZE_create()\n",
    "    # 特徴点の検出\n",
    "    kp = akaze.detect(img)\n",
    "    if len(kp) > 0:\n",
    "        resize_img, kp_list = resize_img_and_kp(img, kp, a)\n",
    "        if top_k > 0 and len(kp_list) >= top_k:\n",
    "            kp_list = kp_list[:top_k]\n",
    "        return True, resize_img, kp_list\n",
    "    else:\n",
    "        return False, None, None\n"
   ]
  },
  {
   "cell_type": "code",
   "execution_count": 3,
   "metadata": {},
   "outputs": [],
   "source": [
    "# 画像サイズ変更なし\n",
    "def resize_img_and_kp(kp):\n",
    "    kp_list = []\n",
    "    for k in kp:\n",
    "        kp_list.append([k.pt[1], k.pt[0], k.response]) # [y,x,response]responseは特徴点の強度\n",
    "    kp_list = np.array(kp_list)\n",
    "    kp_list = kp_list[np.argsort(kp_list[:, 2])[::-1]]\n",
    "    kp_list = np.round(kp_list, decimals=3)\n",
    "    return kp_list[:,:2]\n",
    "\n",
    "def detect_feature_points_with_resize(img, a, top_k=0):\n",
    "    width = img.shape[1]\n",
    "    height = img.shape[0]\n",
    "    img = cv.resize(img, (width, height))\n",
    "    # AKAZE検出器を読み込む\n",
    "    akaze = cv.AKAZE_create()\n",
    "    # 特徴点の検出\n",
    "    kp = akaze.detect(img)\n",
    "    if len(kp) > 0:\n",
    "        kp_list = resize_img_and_kp(kp)\n",
    "        if top_k > 0 and len(kp_list) >= top_k:\n",
    "            kp_list = kp_list[:top_k]\n",
    "        return True, kp_list\n",
    "    else:\n",
    "        return False, None"
   ]
  },
  {
   "cell_type": "code",
   "execution_count": null,
   "metadata": {},
   "outputs": [],
   "source": [
    "sample_coco_path = glob.glob(DATA_PATH + '/COCO/train2014/*')\n",
    "img = sample_coco_path[7001]\n",
    "img = cv.imread(img)\n",
    "judge, kp_list = detect_feature_points_with_resize(img, 1, 100) # [y,x,stregth]\n",
    "for y, x in kp_list:\n",
    "    cv.circle(img, (int(x), int(y)), radius=4, color=(0,255,0), thickness=-1)\n",
    "plt.imshow(img)\n",
    "plt.show()"
   ]
  },
  {
   "cell_type": "code",
   "execution_count": 10,
   "metadata": {},
   "outputs": [],
   "source": [
    "create_dataset_path = f'{DATA_PATH}/akaze_coco_ver_1.1'\n",
    "os.makedirs(create_dataset_path, exist_ok=True)\n",
    "base_path = os.path.join(create_dataset_path, 'ms-coco')\n",
    "os.makedirs(base_path, exist_ok=True)\n",
    "for ip in [\"images\", \"points\"]:\n",
    "    ip_path = os.path.join(base_path, ip)\n",
    "    os.makedirs(ip_path, exist_ok=True)\n",
    "    for data in [\"training\", \"validation\"]:\n",
    "        data_path = os.path.join(ip_path, data)\n",
    "        os.makedirs(data_path, exist_ok=True)\n",
    "\n",
    "tasks = {'training':82783, 'validation':40504}\n",
    "for key, value in tasks.items():\n",
    "    if key == 'training':\n",
    "        coco_path = f'{DATA_PATH}/COCO/train2014/*'\n",
    "    elif key == 'validation':\n",
    "        coco_path = f'{DATA_PATH}/COCO/val2014/*'\n",
    "    save_img_path = os.path.join(base_path, 'images', key)\n",
    "    save_pnt_path = os.path.join(base_path, 'points', key)\n",
    "    coco_img_paths = natsort.natsorted(glob.glob(coco_path))\n",
    "    randint_list = np.random.randint(0,len(coco_img_paths),(value))\n",
    "    for num in randint_list:\n",
    "        img_path = coco_img_paths[num]\n",
    "        filename = os.path.basename(img_path)\n",
    "        basename_without_ext = os.path.splitext(filename)[0]\n",
    "        img = cv.imread(img_path)\n",
    "        judge, kp_list = detect_feature_points_with_resize(img, 1, 0) # [y,x,stregth]\n",
    "        if judge:\n",
    "            cv.imwrite(f'{save_img_path}/{filename}', img)\n",
    "            np.save(f'{save_pnt_path}/{basename_without_ext}.npy', kp_list)"
   ]
  }
 ],
 "metadata": {
  "interpreter": {
   "hash": "1eab1fb50233434cb920beccfc8e225668610eebb5ded8972d1d0b4361050095"
  },
  "kernelspec": {
   "display_name": "Python 3.8.9 ('base-python')",
   "language": "python",
   "name": "python3"
  },
  "language_info": {
   "codemirror_mode": {
    "name": "ipython",
    "version": 3
   },
   "file_extension": ".py",
   "mimetype": "text/x-python",
   "name": "python",
   "nbconvert_exporter": "python",
   "pygments_lexer": "ipython3",
   "version": "3.8.9"
  },
  "orig_nbformat": 4
 },
 "nbformat": 4,
 "nbformat_minor": 2
}
