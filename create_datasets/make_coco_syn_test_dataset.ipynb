{
 "cells": [
  {
   "cell_type": "markdown",
   "metadata": {},
   "source": [
    "cocoディレクトリのtest2014にsynthetic_shapesのテスト画像を入れる"
   ]
  },
  {
   "cell_type": "code",
   "execution_count": 5,
   "metadata": {},
   "outputs": [],
   "source": [
    "from os.path import join, basename\n",
    "import glob\n",
    "import shutil"
   ]
  },
  {
   "cell_type": "code",
   "execution_count": 2,
   "metadata": {},
   "outputs": [],
   "source": [
    "drawing_primitives = [\n",
    "    \"draw_lines\",\n",
    "    \"draw_polygon\",\n",
    "    \"draw_multiple_polygons\",\n",
    "    \"draw_ellipses\",\n",
    "    \"draw_star\",\n",
    "    \"draw_checkerboard\",\n",
    "    \"draw_cube\",\n",
    "    \"draw_stripes\"\n",
    "]\n",
    "base_path = '/home/gennosuke/datasets/synthetic_shapes_v6'"
   ]
  },
  {
   "cell_type": "code",
   "execution_count": 10,
   "metadata": {},
   "outputs": [],
   "source": [
    "for draw in drawing_primitives:\n",
    "    draw_test_path = join(base_path, draw, 'images', 'test', '*')\n",
    "    copy_img_dir_path = '../datasets/COCO/test2014'\n",
    "    img_paths = glob.glob(draw_test_path)\n",
    "    img_file_names = [f'{draw}_{basename(i)}' for i in img_paths]\n",
    "    # print(img_file_names[1], img_paths[1])\n",
    "    for i, path in enumerate(img_paths):\n",
    "        shutil.copy(path, f'{copy_img_dir_path}/{img_file_names[i]}')"
   ]
  }
 ],
 "metadata": {
  "interpreter": {
   "hash": "767d51c1340bd893661ea55ea3124f6de3c7a262a8b4abca0554b478b1e2ff90"
  },
  "kernelspec": {
   "display_name": "Python 3.9.12 64-bit",
   "language": "python",
   "name": "python3"
  },
  "language_info": {
   "codemirror_mode": {
    "name": "ipython",
    "version": 3
   },
   "file_extension": ".py",
   "mimetype": "text/x-python",
   "name": "python",
   "nbconvert_exporter": "python",
   "pygments_lexer": "ipython3",
   "version": "3.9.12"
  },
  "orig_nbformat": 4
 },
 "nbformat": 4,
 "nbformat_minor": 2
}
