{
 "cells": [
  {
   "cell_type": "code",
   "execution_count": 22,
   "metadata": {},
   "outputs": [],
   "source": [
    "from os.path import join, basename\n",
    "import os\n",
    "from glob import glob\n",
    "import cv2\n",
    "import numpy as np\n",
    "import matplotlib.pyplot as plt"
   ]
  },
  {
   "cell_type": "code",
   "execution_count": null,
   "metadata": {},
   "outputs": [],
   "source": [
    "basepath = '/Users/gennosuke/Downloads'\n",
    "coco_img_basename_path = [basename(i) for i in glob(join(basepath, 'synth', '200000_homo', '*'))]"
   ]
  },
  {
   "cell_type": "code",
   "execution_count": 20,
   "metadata": {},
   "outputs": [],
   "source": [
    "def concat_tile(im_list_2d):\n",
    "    \"\"\"\n",
    "    https://note.nkmk.me/python-opencv-hconcat-vconcat-np-tile/\n",
    "    同じサイズの画像を縦・横にタイル状に連結\n",
    "    \"\"\"\n",
    "    return cv2.vconcat([cv2.hconcat(im_list_h) for im_list_h in im_list_2d])\n",
    "\n",
    "all = ['synth', 'arg', 'noarg']\n",
    "homo = ['200000_homo', '200000_no_homo']\n",
    "SAVE_DIR_PATH = 'result'\n",
    "os.makedirs(SAVE_DIR_PATH, exist_ok=True)\n",
    "\n",
    "for imgname in coco_img_basename_path:\n",
    "    img_list = [[0 for _ in range(3)] for _ in range(2)]\n",
    "    for i, key in enumerate(all):\n",
    "        for j, h in enumerate(homo):\n",
    "            img_path = join(basepath, key, h, imgname)\n",
    "            img = cv2.imread(img_path)\n",
    "            img = cv2.resize(img, dsize=(0, 0), fx=0.5, fy=0.5)\n",
    "            img_list[j][i] = img\n",
    "    img_tile = concat_tile(img_list)\n",
    "    cv2.imwrite(f'{SAVE_DIR_PATH}/compare_{imgname}', img_tile)\n"
   ]
  },
  {
   "cell_type": "code",
   "execution_count": 39,
   "metadata": {},
   "outputs": [],
   "source": [
    "def detect_feature_points_with_resize(img):\n",
    "    img = cv2.resize(img, (960, 720))\n",
    "    # AKAZE検出器を読み込む\n",
    "    akaze = cv2.AKAZE_create()\n",
    "    # 特徴点の検出\n",
    "    kp = akaze.detect(img)\n",
    "    for k in kp:\n",
    "        cv2.circle(img, (int(k.pt[0]),int(k.pt[1])), radius=3, color=(0,255,0), thickness=-1)\n",
    "    return img"
   ]
  },
  {
   "cell_type": "code",
   "execution_count": 43,
   "metadata": {},
   "outputs": [],
   "source": [
    "def concat_tile(im_list_2d):\n",
    "    \"\"\"\n",
    "    https://note.nkmk.me/python-opencv-hconcat-vconcat-np-tile/\n",
    "    同じサイズの画像を縦・横にタイル状に連結\n",
    "    \"\"\"\n",
    "    return cv2.hconcat(im_list_2d)\n",
    "\n",
    "SAVE_DIR_PATH = 'result_with_akaze'\n",
    "os.makedirs(SAVE_DIR_PATH, exist_ok=True)\n",
    "\n",
    "for imgname in coco_img_basename_path:\n",
    "    coco_img_path = join(basepath, 'val2014', imgname.replace('.png', '.jpg'))\n",
    "    img = cv2.imread(coco_img_path)\n",
    "    img_akaze = detect_feature_points_with_resize(img)\n",
    "    magicpoint_homo_img_path = join(basepath, 'noarg', '200000_homo',imgname)\n",
    "    magicpoint_homo_img = cv2.imread(magicpoint_homo_img_path)\n",
    "    magicpoint_no_homo_img_path = join(basepath, 'noarg', '200000_no_homo',imgname)\n",
    "    magicpoint_no_homo_img = cv2.imread(magicpoint_no_homo_img_path)\n",
    "    img_list = [\n",
    "        img_akaze,\n",
    "        magicpoint_homo_img,\n",
    "        magicpoint_no_homo_img\n",
    "    ]\n",
    "    img_tile = concat_tile(img_list)\n",
    "    cv2.imwrite(f'{SAVE_DIR_PATH}/compare_with_akaze_{imgname}', img_tile)"
   ]
  }
 ],
 "metadata": {
  "kernelspec": {
   "display_name": "Python 3.9.12 ('akaze')",
   "language": "python",
   "name": "python3"
  },
  "language_info": {
   "codemirror_mode": {
    "name": "ipython",
    "version": 3
   },
   "file_extension": ".py",
   "mimetype": "text/x-python",
   "name": "python",
   "nbconvert_exporter": "python",
   "pygments_lexer": "ipython3",
   "version": "3.9.12"
  },
  "orig_nbformat": 4,
  "vscode": {
   "interpreter": {
    "hash": "9d384cd9e62f800438a0e6bb7ee745c56b93431eebc55313c02f56a2f3aefc6f"
   }
  }
 },
 "nbformat": 4,
 "nbformat_minor": 2
}
